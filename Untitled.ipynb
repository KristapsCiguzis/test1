{
 "cells": [
  {
   "cell_type": "markdown",
   "id": "1ef574d8-3ec0-4e3f-8e27-a0ca7cf36e47",
   "metadata": {},
   "source": [
    "\n",
    " # <center> Steam Games Dataset Analysis</center>\n",
    " ### <center> Final Work. </center>\n",
    " #### <center> Ralfs Laipiņš, Marks Auziņš, Kristaps Ciguzis </center>\n",
    " ### <center>Group 5 </center>\n",
    "### <center>Date 10.06.2024 </center>"
   ]
  },
  {
   "cell_type": "markdown",
   "id": "b4f65b0f-b3bf-4832-8319-a40439640901",
   "metadata": {},
   "source": [
    "## Goal\n",
    "The goal of this work is to analyze the Steam Games dataset from Kaggle, perform data preprocessing, exploratory data analysis, and derive insights. We will use various Python libraries for data manipulation, visualization, and analysis."
   ]
  },
  {
   "cell_type": "code",
   "execution_count": null,
   "id": "e37e0b11-0ec3-4220-ab2f-ceec38fd6e87",
   "metadata": {},
   "outputs": [],
   "source": []
  }
 ],
 "metadata": {
  "kernelspec": {
   "display_name": "Python 3 (ipykernel)",
   "language": "python",
   "name": "python3"
  },
  "language_info": {
   "codemirror_mode": {
    "name": "ipython",
    "version": 3
   },
   "file_extension": ".py",
   "mimetype": "text/x-python",
   "name": "python",
   "nbconvert_exporter": "python",
   "pygments_lexer": "ipython3",
   "version": "3.12.3"
  }
 },
 "nbformat": 4,
 "nbformat_minor": 5
}
