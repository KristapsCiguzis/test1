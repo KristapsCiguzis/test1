{
 "cells": [
  {
   "cell_type": "code",
   "execution_count": 2,
   "id": "3f68d2ad-8e2f-4903-bd4d-6762b4c9b5f2",
   "metadata": {},
   "outputs": [],
   "source": [
    "# Python Packages"
   ]
  },
  {
   "cell_type": "markdown",
   "id": "09813252",
   "metadata": {},
   "source": [
    "# Python Packages\n"
   ]
  },
  {
   "cell_type": "markdown",
   "id": "c9d81073-9a4b-4598-bf1c-1bfddaba4fa5",
   "metadata": {
    "slideshow": {
     "slide_type": "slide"
    },
    "tags": []
   },
   "source": [
    "![image](via_en_logo.png)\n",
    " # <center> Introduction to Data Science</center>\n",
    " ## <center> 7. Part </center>\n",
    " # <center> Data import and pre-processing with Python Pandas </center>\n"
   ]
  },
  {
   "cell_type": "code",
   "execution_count": 3,
   "id": "de0a3e04-6f65-441d-a15f-0375c82c83d5",
   "metadata": {},
   "outputs": [
    {
     "ename": "SyntaxError",
     "evalue": "unterminated string literal (detected at line 1) (186346626.py, line 1)",
     "output_type": "error",
     "traceback": [
      "\u001b[1;36m  Cell \u001b[1;32mIn[3], line 1\u001b[1;36m\u001b[0m\n\u001b[1;33m    Packages installation is done with **pip**, **conda** or **brew** packages management applications. They work outside Python and are executed from operating system's command line interface (CLI).\u001b[0m\n\u001b[1;37m                                                                                                                                                                       ^\u001b[0m\n\u001b[1;31mSyntaxError\u001b[0m\u001b[1;31m:\u001b[0m unterminated string literal (detected at line 1)\n"
     ]
    }
   ],
   "source": []
  },
  {
   "cell_type": "markdown",
   "id": "6b54a173",
   "metadata": {},
   "source": [
    "Packages installation is done with **pip**, **conda** or **brew** packages management applications. They work outside Python and are executed from operating system's command line interface (CLI).\n",
    "\n",
    "Installation example for Pandas package using **pip** from CLI: \n",
    "\n",
    "    pip install pandas\n",
    "    \n",
    "To install a specific version of package one can use: \n",
    "\n",
    "    pip install pandas==2.1.4\n",
    "\n",
    "Package installation can be executed also from Jupyter Notebook using exclamation sign \"\\!\" to indicate that this is a code for CLI."
   ]
  },
  {
   "cell_type": "code",
   "execution_count": null,
   "id": "1b7e7167",
   "metadata": {},
   "outputs": [],
   "source": [
    "!pip install pandas"
   ]
  },
  {
   "cell_type": "code",
   "execution_count": null,
   "id": "e1c671a5",
   "metadata": {},
   "outputs": [],
   "source": [
    "import pandas as pd"
   ]
  },
  {
   "cell_type": "markdown",
   "id": "582610a2",
   "metadata": {},
   "source": [
    "There is a possibility to install all the package or just some components of a package. For Pandas normaly one installs all the package."
   ]
  },
  {
   "cell_type": "code",
   "execution_count": null,
   "id": "2a81cc86",
   "metadata": {},
   "outputs": [],
   "source": [
    "from pandas import Series as sr"
   ]
  },
  {
   "cell_type": "markdown",
   "id": "07bca945",
   "metadata": {},
   "source": [
    "# Pandas data structure"
   ]
  },
  {
   "cell_type": "markdown",
   "id": "98cca9da",
   "metadata": {},
   "source": [
    "To work with data Pandas package uses two structures:\n",
    "1. pandas Series\n",
    "2. pandas DataFrame"
   ]
  },
  {
   "cell_type": "markdown",
   "id": "d6d452a8",
   "metadata": {},
   "source": [
    "## Series - Column"
   ]
  },
  {
   "cell_type": "markdown",
   "id": "3c3153b7",
   "metadata": {},
   "source": [
    "pandas Series is one dimensional data structure (i.e. column) which can consist from several type of elements: \n",
    "* character srrings\n",
    "* integers\n",
    "* dates and times\n",
    "* data structures containing lists, dictionaries.\n",
    "\n",
    "Each element in the series is indexed. Thus it allows to access individual elements. As oppose to Python lists and dictionaries, series' indexies do not have to be integers. They can also be strings or dates.\n",
    "\n",
    "Pandas package Series corresponds to one column in a table. \n",
    "To create Series one can use both lists and dictionaries."
   ]
  },
  {
   "cell_type": "code",
   "execution_count": null,
   "id": "63a70c40",
   "metadata": {},
   "outputs": [],
   "source": [
    "# by using list, indexes are assigned automatically starting by 0.\n",
    "my_list = [\"a\", \"b\", \"c\", \"d\"]\n",
    "srs = pd.Series(my_list)\n",
    "print(srs)"
   ]
  },
  {
   "cell_type": "code",
   "execution_count": null,
   "id": "136d89a7",
   "metadata": {},
   "outputs": [],
   "source": [
    "# one can see, that created Series object is not connected anymore with original data\n",
    "# by adding an element to a list it is not influencing Series object\n",
    "my_list.append(\"e\")\n",
    "print(my_list, \"\\n\")\n",
    "print(srs)"
   ]
  },
  {
   "cell_type": "code",
   "execution_count": null,
   "id": "3bb2248b",
   "metadata": {},
   "outputs": [],
   "source": [
    "# creating Series from a dictionary - Series index values are taken from the dictionary keys\n",
    "dict1 = {\"c\" : 'John', \"b\" : 'Jane', \"a\" : 'Anton'}\n",
    "srs_d = pd.Series(dict1)\n",
    "print(srs_d)"
   ]
  },
  {
   "cell_type": "markdown",
   "id": "8c5fd994",
   "metadata": {},
   "source": [
    "## DataFrame - table"
   ]
  },
  {
   "cell_type": "markdown",
   "id": "2654f816",
   "metadata": {},
   "source": [
    "Pandas package has an object called **DataFrame** or table: a two-dimensional data structure with column names and row indexes.\n",
    "\n",
    "It also introduces a range of functions and methods to work with data structures: sorting, grouping, merging, working with missing values. <br>\n",
    "This package performs PowerQuery function in a data analysis loop in Python. <br>\n",
    "However, it is also able to perform calculations and some visualisations.\n"
   ]
  },
  {
   "cell_type": "markdown",
   "id": "e509c85e",
   "metadata": {},
   "source": [
    "As with other data structures, one can start by creating an empty DataFrame and then assign values to it; or one can initialize the DataFrame with values and names right away."
   ]
  },
  {
   "cell_type": "code",
   "execution_count": null,
   "id": "0dc94642",
   "metadata": {},
   "outputs": [],
   "source": [
    "# creation of empty DataFrame\n",
    "\n",
    "df = pd.DataFrame()\n",
    "\n",
    "print(df)"
   ]
  },
  {
   "cell_type": "markdown",
   "id": "76f5bf48",
   "metadata": {},
   "source": [
    "DataFrames can be built from different combinations of data structures:\n",
    "* a dictionary consisting of lists\n",
    "* a list consisting of dictionaries\n",
    "* a list consisting of lists (nested lists)"
   ]
  },
  {
   "cell_type": "code",
   "execution_count": null,
   "id": "1657422e",
   "metadata": {},
   "outputs": [],
   "source": [
    "dict_of_lists = {'Name': ['John', 'Jane', 'Anton'], 'Age': [35, 36, 28]}\n",
    "list_of_dicts = [ {'Name': 'John',  'Age': 35},{'Name': 'Jane',  'Age': 36},{'Name': 'Anton',  'Age': 28}]\n",
    "list_of_lists = [['John', 35],['Jane', 36], ['Anton', 28]]\n",
    "\n",
    "df1 = pd.DataFrame(dict_of_lists)\n",
    "df2 = pd.DataFrame(list_of_dicts)\n",
    "df3 = pd.DataFrame(list_of_lists)\n",
    "\n",
    "print(df1, \"\\n\\n\")\n",
    "print(df2, \"\\n\\n\")\n",
    "print(df3)"
   ]
  },
  {
   "cell_type": "markdown",
   "id": "022e4e19",
   "metadata": {},
   "source": [
    "# Reading data"
   ]
  },
  {
   "cell_type": "markdown",
   "id": "d366d552",
   "metadata": {},
   "source": [
    "As with Power BI, data can be read from local files, from web pages and from a wide range of other data sources."
   ]
  },
  {
   "cell_type": "markdown",
   "id": "9124ec86",
   "metadata": {},
   "source": [
    "## Reading data from .csv files."
   ]
  },
  {
   "cell_type": "markdown",
   "id": "93812a78",
   "metadata": {},
   "source": [
    "A common file format to store large volume of data is .csv (i.e. one we have used also for Power BI data)."
   ]
  },
  {
   "cell_type": "code",
   "execution_count": null,
   "id": "fe960f71",
   "metadata": {
    "scrolled": true
   },
   "outputs": [],
   "source": [
    "# change the path string to a path that points to the location of `animal_control.csv` on your computer\n",
    "\n",
    "# use r before the string to indicate that all symbols are read literally\n",
    "# it helps to record a string of symbols with many special characters, in this case backslashes\n",
    "\n",
    "address = r\"C:\\py\\dati\\animal_control.csv\"\n",
    "\n",
    "df_csv = pd.read_csv(address)\n",
    "df_csv.head()"
   ]
  },
  {
   "cell_type": "markdown",
   "id": "d7c9c372",
   "metadata": {},
   "source": [
    "Using the **read_csv()** function, a DataFrame is created. The DataFrame method **head()** is used to view the first five rows of the DataFrame. If one wants to view the last five records, one can use the **tail()** method."
   ]
  },
  {
   "cell_type": "code",
   "execution_count": null,
   "id": "06c7971f",
   "metadata": {},
   "outputs": [],
   "source": [
    "df_csv.tail()"
   ]
  },
  {
   "cell_type": "markdown",
   "id": "f3ee860b",
   "metadata": {},
   "source": [
    "Excel files can be loaded in a similar way with the **read_excel()** function."
   ]
  },
  {
   "cell_type": "code",
   "execution_count": null,
   "id": "86a208c4",
   "metadata": {
    "scrolled": true
   },
   "outputs": [],
   "source": [
    "address_xlsx = r\"C:\\py\\dati\\competitors.xlsx\"\n",
    "\n",
    "df_xlsx = pd.read_excel(address_xlsx)\n",
    "df_xlsx.head()"
   ]
  },
  {
   "cell_type": "markdown",
   "id": "d2f7b25c",
   "metadata": {},
   "source": [
    "To find out the dimensions of the table use the DataFrame **shape** attribute"
   ]
  },
  {
   "cell_type": "code",
   "execution_count": null,
   "id": "a598852d",
   "metadata": {
    "scrolled": true
   },
   "outputs": [],
   "source": [
    "print(\"csv file dimensions:\", df_csv.shape)\n",
    "print(\"excel file dimensions:\", df_xlsx.shape)"
   ]
  },
  {
   "cell_type": "markdown",
   "id": "0769b060",
   "metadata": {},
   "source": [
    "One can see that the .csv file has 139 749 rows and 21 columns. <br>\n",
    "To view all the columns in the table, one can use the DataFrame **columns** attribute."
   ]
  },
  {
   "cell_type": "code",
   "execution_count": null,
   "id": "0d324307",
   "metadata": {},
   "outputs": [],
   "source": [
    "df_csv.columns"
   ]
  },
  {
   "cell_type": "markdown",
   "id": "6e494a3c",
   "metadata": {},
   "source": [
    "One can use the **dtypes** attribute to find out what data types each column of the table contains. "
   ]
  },
  {
   "cell_type": "code",
   "execution_count": null,
   "id": "c6972181",
   "metadata": {},
   "outputs": [],
   "source": [
    "df_csv.dtypes"
   ]
  },
  {
   "cell_type": "markdown",
   "id": "77e16d67",
   "metadata": {},
   "source": [
    "One can see that the file contains data that fall into different categories:\n",
    "* int64 - integers\n",
    "* float64 - decimal numbers\n",
    "* string objects\n",
    "\n",
    "There is one common type missing here: \n",
    "* datetime64 - date and time\n",
    "\n",
    "By looking at the data one can see that \"CLOSED DATE\" is a good candidate for this data type. <br>\n",
    "We will look at changing the data type, as well as at potential obstacles a bit later."
   ]
  },
  {
   "cell_type": "markdown",
   "id": "e71e223a",
   "metadata": {},
   "source": [
    "Using the **head(), shape, columns and dtypes** methods and attributes we can get a quick overview of the data just loaded."
   ]
  },
  {
   "cell_type": "markdown",
   "id": "641ebaf5",
   "metadata": {},
   "source": [
    "## Reading data from web sources"
   ]
  },
  {
   "cell_type": "markdown",
   "id": "bb5c8dd1",
   "metadata": {},
   "source": [
    "Pandas cannot replace the Power BI connectors that help to read the tables contained within the web pages as easily. Here we will look at reading simple files."
   ]
  },
  {
   "cell_type": "markdown",
   "id": "dcb5db80",
   "metadata": {},
   "source": [
    "There are several ways to connect to WEB data sources, but the same **read_csv()** function will work this time. We will connect to a data source that stores the Golton dataset, a 19th century experiment in which Francis Golton measured the height of parents and their offspring.\n",
    "\n",
    "We use a URL address instead of a local address to read the file:\n",
    "https://pmagunia.com/assets/data/csv/dataset-71755.csv "
   ]
  },
  {
   "cell_type": "code",
   "execution_count": null,
   "id": "132c3903",
   "metadata": {},
   "outputs": [],
   "source": [
    "url = \"https://pmagunia.com/assets/data/csv/dataset-71755.csv\"\n",
    "\n",
    "df_web = pd.read_csv(url)\n",
    "\n",
    "df_web.head()"
   ]
  },
  {
   "cell_type": "code",
   "execution_count": null,
   "id": "d2cba2a3-81f3-4c00-9236-65e0461d186b",
   "metadata": {},
   "outputs": [],
   "source": [
    "# Loading data with another separator\n",
    "address_galton = r\"C:\\py\\dati\\galton.txt\"\n",
    "\n",
    "df_web2 = pd.read_csv(address_galton)\n",
    "df_web2.head()"
   ]
  },
  {
   "cell_type": "markdown",
   "id": "288837a4",
   "metadata": {},
   "source": [
    "We can see that the file is not read in a way that is convenient for us - all the data is in one column. We can see that the names and values of several columns are separated by the **\\\\t** symbol, which corresponds to tabulation.\n",
    "\n",
    "The **read_csv()** supports different column delimiters. The default value is a comma, but one can change it with the keyword **sep**."
   ]
  },
  {
   "cell_type": "code",
   "execution_count": null,
   "id": "5c96e6e6",
   "metadata": {
    "scrolled": true
   },
   "outputs": [],
   "source": [
    "address_galton = r\"C:\\py\\dati\\galton.txt\"\n",
    "\n",
    "df_web2 = pd.read_csv(address_galton, sep = \"\\t\")\n",
    "df_web2.head()"
   ]
  },
  {
   "cell_type": "markdown",
   "id": "bece217e",
   "metadata": {},
   "source": [
    "More info about this data set is available here: <br> \n",
    "http://www.medicine.mcgill.ca/epidemiology/hanley/galton/ <br>\n",
    "https://www.randomservices.org/random/data/Galton.html\n",
    "\n",
    "One can look at other properties of this dataset."
   ]
  },
  {
   "cell_type": "code",
   "execution_count": null,
   "id": "40dfa32a",
   "metadata": {
    "tags": []
   },
   "outputs": [],
   "source": [
    "print(\"Data set shape is:\", df_web.shape, \"\\n\")\n",
    "print(\"Data set data types are:\\n\", df_web.dtypes)"
   ]
  },
  {
   "cell_type": "markdown",
   "id": "57e06b90",
   "metadata": {},
   "source": [
    "# Data set description."
   ]
  },
  {
   "cell_type": "markdown",
   "id": "d6d3a4e5",
   "metadata": {},
   "source": [
    "We have looked at methods that describe a dataset as an object. Now let's look at the methods that help describe the data inside the dataset. Let's continue by looking at the Golton dataset."
   ]
  },
  {
   "cell_type": "code",
   "execution_count": null,
   "id": "ade5edf1",
   "metadata": {},
   "outputs": [],
   "source": [
    "url = \"https://pmagunia.com/assets/data/csv/dataset-71755.csv\"\n",
    "\n",
    "df_web = pd.read_csv(url)\n",
    "df_web.head()"
   ]
  },
  {
   "cell_type": "markdown",
   "id": "9373c061",
   "metadata": {},
   "source": [
    "## Count"
   ]
  },
  {
   "cell_type": "markdown",
   "id": "0bf68227",
   "metadata": {},
   "source": [
    "Count returns how many **non**-empty elements are in each column."
   ]
  },
  {
   "cell_type": "code",
   "execution_count": null,
   "id": "a031b16a",
   "metadata": {},
   "outputs": [],
   "source": [
    "df_web.count()"
   ]
  },
  {
   "cell_type": "markdown",
   "id": "81e48c98",
   "metadata": {},
   "source": [
    "We can see that the Golton set is well ordered - all columns contain the same number of elements. \n",
    "\n",
    "How about Animal Control dataset?"
   ]
  },
  {
   "cell_type": "code",
   "execution_count": null,
   "id": "59859843",
   "metadata": {},
   "outputs": [],
   "source": [
    "df_csv.count()"
   ]
  },
  {
   "cell_type": "markdown",
   "id": "d7949940",
   "metadata": {},
   "source": [
    "One can see that the number of non-empty elements varies across the much larger dataset. Dealing with empty elements is important work. If it is affordable to just throw them away, one can use the **dropna()** method."
   ]
  },
  {
   "cell_type": "code",
   "execution_count": null,
   "id": "1f5a97d5",
   "metadata": {},
   "outputs": [],
   "source": [
    "df_csv.dropna().count()"
   ]
  },
  {
   "cell_type": "markdown",
   "id": "76dc6f35",
   "metadata": {},
   "source": [
    "By default **dropna()** throws out entries with a blank in at least one column. <br>\n",
    "Discarding them allows to see the number of records that do not have any empty columns."
   ]
  },
  {
   "cell_type": "markdown",
   "id": "4968559c",
   "metadata": {},
   "source": [
    "## Max and Min"
   ]
  },
  {
   "cell_type": "markdown",
   "id": "c9805dca",
   "metadata": {},
   "source": [
    "This function allows you to see the maximum or minimum value."
   ]
  },
  {
   "cell_type": "code",
   "execution_count": null,
   "id": "dc62e562",
   "metadata": {},
   "outputs": [],
   "source": [
    "df_web.max()"
   ]
  },
  {
   "cell_type": "code",
   "execution_count": null,
   "id": "2327e9d0",
   "metadata": {},
   "outputs": [],
   "source": [
    "df_web.min()"
   ]
  },
  {
   "cell_type": "markdown",
   "id": "38a898d4",
   "metadata": {},
   "source": [
    "## Mode"
   ]
  },
  {
   "cell_type": "markdown",
   "id": "650b66ea",
   "metadata": {},
   "source": [
    "The mode() method returns the mode of the column - the most common value."
   ]
  },
  {
   "cell_type": "code",
   "execution_count": null,
   "id": "d4e01db7",
   "metadata": {},
   "outputs": [],
   "source": [
    "df_web.mode()"
   ]
  },
  {
   "cell_type": "markdown",
   "id": "b30eab12",
   "metadata": {},
   "source": [
    "## Median un Quantile"
   ]
  },
  {
   "cell_type": "markdown",
   "id": "6980216b",
   "metadata": {},
   "source": [
    "**Median** is the value corresponding to an entry that is greater than 50% of all entries. It is also referred to as the central value."
   ]
  },
  {
   "attachments": {
    "40ef280b-fbbf-4d6f-90ad-1a303795856e.jpg": {
     "image/jpeg": "[encoded data removed]"
    }
   },
   "cell_type": "markdown",
   "id": "515ceff5-58f3-445c-aa94-93e63f139e4c",
   "metadata": {},
   "source": [
    "![mean-vs-median.jpg](attachment:40ef280b-fbbf-4d6f-90ad-1a303795856e.jpg)\n",
    "<center>https://keydifferences.com/difference-between-mean-and-median.html</center>"
   ]
  },
  {
   "attachments": {
    "f99f4461-91c0-4c03-a807-d70fd74c1e2c.png": {
     "image/png": "[encoded data removed]"
    }
   },
   "cell_type": "markdown",
   "id": "6685789b-5e55-44b1-9698-098b1936ff9a",
   "metadata": {},
   "source": [
    "![quartiles.png](attachment:f99f4461-91c0-4c03-a807-d70fd74c1e2c.png)\n",
    "<center>https://www.researchgate.net/figure/Relationship-of-quartiles-and-inter-quartile-range-Legends-Q-1-first-quartile-Q-3_fig2_324532937</center>"
   ]
  },
  {
   "cell_type": "markdown",
   "id": "985cd5b4",
   "metadata": {
    "tags": []
   },
   "source": [
    "Similarly, we can think of a minimum as the value of an entry that is no smaller than the usual value and a maximum that is greater than all (100%) entries.\n",
    "\n",
    "Of course, one can always find a record for which the fraction of smaller records corresponds to any number between 0 and 100%. Common ones are:\n",
    "* First quartile, corresponding to 25% of entries\n",
    "* Second quartile or median\n",
    "* Third quartile, corresponding to 75% of entries\n",
    "* Inter-quartile distance (IQR), which is the interquartile range of the third and first quartiles.\n",
    "\n",
    "Any of these can be called a percentile, when one divides ordered records into 100 parts instead of four parts as with quartiles."
   ]
  },
  {
   "cell_type": "markdown",
   "id": "2a02f793",
   "metadata": {},
   "source": [
    "To find the median values we use the **median()** method."
   ]
  },
  {
   "cell_type": "code",
   "execution_count": null,
   "id": "ca74e8b0",
   "metadata": {},
   "outputs": [],
   "source": [
    "df_web.median(numeric_only=True)"
   ]
  },
  {
   "cell_type": "markdown",
   "id": "e9a963a1",
   "metadata": {},
   "source": [
    "For other values we use the **quantile()** method. <br>\n",
    "Its first argument corresponds to the percentile to be calculated."
   ]
  },
  {
   "cell_type": "code",
   "execution_count": null,
   "id": "1d482db2",
   "metadata": {
    "tags": []
   },
   "outputs": [],
   "source": [
    "df_web.quantile(0.5, numeric_only=True) # repeating median's results"
   ]
  },
  {
   "cell_type": "code",
   "execution_count": null,
   "id": "7a7aca4f",
   "metadata": {
    "scrolled": true
   },
   "outputs": [],
   "source": [
    "df_web.quantile(q = 0.25, numeric_only=True) # 1st quartile"
   ]
  },
  {
   "cell_type": "code",
   "execution_count": null,
   "id": "534a6fe2",
   "metadata": {},
   "outputs": [],
   "source": [
    "df_web.quantile(q = 0.75, numeric_only=True) # 3rd quartile"
   ]
  },
  {
   "cell_type": "code",
   "execution_count": null,
   "id": "64183332",
   "metadata": {},
   "outputs": [],
   "source": [
    "df_web.quantile(q = 0.75, numeric_only=True) - df_web.quantile(q = 0.25, numeric_only=True) # IQR (Inner Quartile Range)"
   ]
  },
  {
   "cell_type": "markdown",
   "id": "32b0eaa5",
   "metadata": {},
   "source": [
    "## Mean"
   ]
  },
  {
   "cell_type": "markdown",
   "id": "9bcf3b2b",
   "metadata": {},
   "source": [
    "The **mean()** method calculates the arithmetic mean of several measurements: $ \\frac{1}{N} \\sum_{i=1}^N x_i $ "
   ]
  },
  {
   "cell_type": "code",
   "execution_count": null,
   "id": "c17c5224",
   "metadata": {
    "scrolled": true
   },
   "outputs": [],
   "source": [
    "df_web.mean(numeric_only=True)"
   ]
  },
  {
   "cell_type": "markdown",
   "id": "1bb6345e",
   "metadata": {},
   "source": [
    "##  std and var"
   ]
  },
  {
   "attachments": {
    "image.png": {
     "image/png": "[encoded data removed]"
    }
   },
   "cell_type": "markdown",
   "id": "51f4c749",
   "metadata": {},
   "source": [
    "Two distributions with the same mean can be very different in shape.\n",
    "\n",
    "![image.png](attachment:image.png)\n",
    "<center> https://www.researchgate.net/figure/Two-Gaussian-distributions-with-the-same-mean-and-different-variances_fig1_295105260 </center>\n",
    "\n",
    "What distinguishes these distributions is their variance: the more \"fuzzy\" it is, the greater the variance of the distribution. The **variance** is the value calculated as the sum of the squared deviations of each data point from the mean:\n",
    "\n",
    "$variance = \\frac{1}{N} \\sum_{i=1}^N (x_i - \\bar{x})^2 $\n",
    "\n",
    "$ x_i $ - one measurement\n",
    "\n",
    "$ \\bar{x} $ - arithmetic mean\n",
    "\n",
    "The method **var()** is used to calculate it."
   ]
  },
  {
   "cell_type": "code",
   "execution_count": null,
   "id": "71bd86a7",
   "metadata": {},
   "outputs": [],
   "source": [
    "df_web.var(numeric_only=True)"
   ]
  },
  {
   "cell_type": "markdown",
   "id": "47095703",
   "metadata": {},
   "source": [
    "The square root of the variance is the standard deviation, often denoted $\\sigma$. It is more commonly used as the characteristic for a distribution than the variance, because its units coincide with those (i.e. units) of being measured, such as length.\n",
    "\n",
    "\n",
    "$standard\\_ deviation = \\sqrt(\\frac{1}{N} \\sum_{i=1}^N (x_i - \\bar{x})^2 )$\n",
    "\n",
    "$ x_i $ - one measurement\n",
    "\n",
    "$ \\bar{x} $ - arithmetic mean\n",
    "\n",
    "The method **std()** is used to calculate it."
   ]
  },
  {
   "cell_type": "code",
   "execution_count": null,
   "id": "4970eada",
   "metadata": {},
   "outputs": [],
   "source": [
    "df_web.std(numeric_only=True)"
   ]
  },
  {
   "cell_type": "markdown",
   "id": "4b64c711",
   "metadata": {},
   "source": [
    "### describe"
   ]
  },
  {
   "cell_type": "markdown",
   "id": "b1cbb4e1",
   "metadata": {},
   "source": [
    "When you start describing a dataset, you use the **describe()** method more often than any other, because it combines most of the methods just described into one."
   ]
  },
  {
   "cell_type": "code",
   "execution_count": null,
   "id": "38c71d5d",
   "metadata": {},
   "outputs": [],
   "source": [
    "df_web.describe()"
   ]
  },
  {
   "cell_type": "markdown",
   "id": "da6099d0",
   "metadata": {},
   "source": [
    "It can be seen that only numerical columns are described, as all of the proposed methods are available to them. If we want to see information about text columns, we use the keyword **include = \"all \"**"
   ]
  },
  {
   "cell_type": "code",
   "execution_count": null,
   "id": "5a1fbfd8",
   "metadata": {},
   "outputs": [],
   "source": [
    "df_web.describe(include = \"all\")"
   ]
  },
  {
   "cell_type": "markdown",
   "id": "19b8a20b",
   "metadata": {},
   "source": [
    "Text columns have their own methods:\n",
    "* unique - how many different values are in this column. Corresponds to the Power BI *distinct* function, not *unique*.\n",
    "* top - is the mode of the distribution\n",
    "* freq - frequency of occurrence of the mode\n",
    "\n",
    "One can see how the frequencies are distributed between different values by using the **value_counts()** method."
   ]
  },
  {
   "cell_type": "code",
   "execution_count": null,
   "id": "2d2274ad",
   "metadata": {},
   "outputs": [],
   "source": [
    "df_web[\"gender\"].value_counts()"
   ]
  },
  {
   "cell_type": "code",
   "execution_count": null,
   "id": "7b832e8b",
   "metadata": {
    "scrolled": true
   },
   "outputs": [],
   "source": [
    "df_web[\"family\"].value_counts()"
   ]
  },
  {
   "cell_type": "code",
   "execution_count": null,
   "id": "2cfca130",
   "metadata": {},
   "outputs": [],
   "source": [
    "df_web.dtypes"
   ]
  },
  {
   "cell_type": "markdown",
   "id": "036b615e",
   "metadata": {},
   "source": [
    "Why is \"family\" a text column, even though all the values seen are scalar? <br>\n",
    "We can see all the different values of a column with the **unique()** method."
   ]
  },
  {
   "cell_type": "code",
   "execution_count": null,
   "id": "5710138c",
   "metadata": {},
   "outputs": [],
   "source": [
    "df_web[\"family\"].unique()"
   ]
  },
  {
   "cell_type": "markdown",
   "id": "ef9be2c8",
   "metadata": {},
   "source": [
    "One can see that one of the values is \"136A\", which turns the whole column into a text column. One could get rid of this by using **replace()**."
   ]
  },
  {
   "cell_type": "markdown",
   "id": "6f46c27c",
   "metadata": {},
   "source": [
    "## \\*\\*\\***TRY IT YOURSELF**\\*\\*\\*: Iris data set 1"
   ]
  },
  {
   "cell_type": "markdown",
   "id": "7d8e25c6",
   "metadata": {},
   "source": [
    "Let's take a look at one of the classic Python training datasets: https://en.wikipedia.org/wiki/Iris_flower_data_set.\n",
    "It describes flower characteristics for different iris species. "
   ]
  },
  {
   "cell_type": "markdown",
   "id": "7b461855",
   "metadata": {},
   "source": [
    "1. **Read iris.csv. Create a pandas DataFrame from this file**\n",
    "2. **Display the first five records of the dataset**"
   ]
  },
  {
   "cell_type": "code",
   "execution_count": null,
   "id": "22b4421e",
   "metadata": {
    "scrolled": true
   },
   "outputs": [],
   "source": [
    "\n",
    "\n",
    "\n"
   ]
  },
  {
   "cell_type": "markdown",
   "id": "ab908bb8",
   "metadata": {},
   "source": [
    "3. **What are the dimensions of the dataset?**"
   ]
  },
  {
   "cell_type": "code",
   "execution_count": null,
   "id": "7689509d",
   "metadata": {},
   "outputs": [],
   "source": [
    "\n",
    "\n",
    "\n"
   ]
  },
  {
   "cell_type": "markdown",
   "id": "b1bb5ce8",
   "metadata": {},
   "source": [
    "4. **What are the data types of the columns in the dataset?**"
   ]
  },
  {
   "cell_type": "code",
   "execution_count": null,
   "id": "0727c69e",
   "metadata": {},
   "outputs": [],
   "source": [
    "\n",
    "\n",
    "\n"
   ]
  },
  {
   "cell_type": "markdown",
   "id": "d9eb016b",
   "metadata": {},
   "source": [
    "5. **Describe the basic values of the dataset in one table. Include both numeric and text columns.**"
   ]
  },
  {
   "cell_type": "code",
   "execution_count": null,
   "id": "31963ea4",
   "metadata": {},
   "outputs": [],
   "source": [
    "\n",
    "\n",
    "\n"
   ]
  },
  {
   "cell_type": "markdown",
   "id": "8046ae0d",
   "metadata": {},
   "source": [
    "6. **How many entries correspond to each species of iris?**"
   ]
  },
  {
   "cell_type": "code",
   "execution_count": null,
   "id": "ee8971e0",
   "metadata": {},
   "outputs": [],
   "source": [
    "\n",
    "\n",
    "\n"
   ]
  },
  {
   "cell_type": "markdown",
   "id": "faab71f5",
   "metadata": {},
   "source": [
    "#  DataFrame and usage of Series"
   ]
  },
  {
   "cell_type": "markdown",
   "id": "3fd1030d",
   "metadata": {},
   "source": [
    "Once the data has been read for further analysis, it is necessary to:\n",
    "* be able to filter specific:\n",
    "    * DataFrame columns\n",
    "    * DataFrame rows\n",
    "* sort the table by a specific column\n",
    "* replace values\n",
    "* work with empty values\n",
    "* pivot or group table areas\n",
    "\n",
    "For all of these operations, pandas has functions that allow you to do them."
   ]
  },
  {
   "cell_type": "markdown",
   "id": "8b8bedec",
   "metadata": {},
   "source": [
    "## Pointing out a single Series from a DataFrame"
   ]
  },
  {
   "cell_type": "markdown",
   "id": "0077ddbd",
   "metadata": {},
   "source": [
    "Let's continue with the Golton dataset. To see how the height of the child depends on the height of the parents, let's create a \"mid-height\" column. In this column we want to keep the average of the two parents' heights.\n",
    "\n",
    "The column is a Series that will be added to the original DataFrame. It is built from two other Series: \"Father\" and \"Mother\"."
   ]
  },
  {
   "cell_type": "code",
   "execution_count": null,
   "id": "f84c7c8a",
   "metadata": {},
   "outputs": [],
   "source": [
    "address_galton = r\"C:\\py\\dati\\galton.txt\"\n",
    "\n",
    "df_web = pd.read_csv(address_galton, sep = \"\\t\")\n",
    "\n",
    "df_web.head()"
   ]
  },
  {
   "cell_type": "code",
   "execution_count": null,
   "id": "5a57eba2",
   "metadata": {},
   "outputs": [],
   "source": [
    "srs_father = df_web[\"Father\"] # choosing a column\n",
    "srs_father.head()             # Series object also has a method head()"
   ]
  },
  {
   "cell_type": "markdown",
   "id": "edb90c7e",
   "metadata": {},
   "source": [
    "Now one can select two columns, add their values together and divide by 2 to get the average."
   ]
  },
  {
   "cell_type": "code",
   "execution_count": null,
   "id": "cec2cb8e",
   "metadata": {},
   "outputs": [],
   "source": [
    "srs_sum = (df_web[\"Father\"] + df_web[\"Mother\"]) / 2\n",
    "srs_sum.head()"
   ]
  },
  {
   "cell_type": "markdown",
   "id": "51d424e6",
   "metadata": {},
   "source": [
    "To add this column as a new DataFrame column, one needs to enter a not yet existing Series name. The syntax is identical to the one as if we were trying to select this column."
   ]
  },
  {
   "cell_type": "code",
   "execution_count": null,
   "id": "ba751bd7",
   "metadata": {},
   "outputs": [],
   "source": [
    "df_web[\"mid-height\"] = (df_web[\"Father\"] + df_web[\"Mother\"]) / 2\n",
    "df_web.head()"
   ]
  },
  {
   "cell_type": "markdown",
   "id": "faa202cc",
   "metadata": {},
   "source": [
    "One can see that a new column \"mid-height\" has been added now."
   ]
  },
  {
   "cell_type": "markdown",
   "id": "3d27cca4",
   "metadata": {},
   "source": [
    "## Extracting a DataFrame (i.e. part) from the original DataFrame"
   ]
  },
  {
   "cell_type": "markdown",
   "id": "22c02b44",
   "metadata": {},
   "source": [
    "The Galton dataset is concise, so there are no major problems with it, but for example Animal Control consists of 21 columns, some of which are definitely not needed.\n",
    "\n",
    "In this case one can create a DataFrame using another DataFrame as a base. Let's select from **web_df** only the newly created column and the child column \"Height\".\n",
    "\n",
    "To select the data not as a column but as a smaller DataFrame, one can type the column name in **two square brackets**."
   ]
  },
  {
   "cell_type": "code",
   "execution_count": null,
   "id": "5a03da27",
   "metadata": {},
   "outputs": [],
   "source": [
    "df_web[[\"Height\"]].head()"
   ]
  },
  {
   "cell_type": "markdown",
   "id": "04cb9e8d",
   "metadata": {},
   "source": [
    "One can see that, unlike Series, one can also see the column name. <br>\n",
    "To select a DataFrame consisting of multiple columns, one can type the names of the multiple columns separated by commas."
   ]
  },
  {
   "cell_type": "code",
   "execution_count": null,
   "id": "ec824942",
   "metadata": {},
   "outputs": [],
   "source": [
    "df_web[[\"Height\", \"mid-height\"]].head()"
   ]
  },
  {
   "cell_type": "markdown",
   "id": "34f6683d",
   "metadata": {},
   "source": [
    "If one needs to select several columns whose names are linked by some feature, one can do this automatically instead of typing each name manually, especially if one needs to do this in several places in the code.\n",
    "\n",
    "Let's look at the Animal Control dataset."
   ]
  },
  {
   "cell_type": "code",
   "execution_count": null,
   "id": "557fe21c",
   "metadata": {},
   "outputs": [],
   "source": [
    "df_csv.columns"
   ]
  },
  {
   "cell_type": "markdown",
   "id": "0e501bf2",
   "metadata": {},
   "source": [
    "For example, one wants to discard all columns that are related to dates. These start with CREATION or CLOSED, as well as the \"DAYS TO CLOSE\" column.\n",
    "\n",
    "One can use a list generator with a logical test that will not allow columns with these names to get in."
   ]
  },
  {
   "cell_type": "code",
   "execution_count": null,
   "id": "ed069b7a",
   "metadata": {
    "scrolled": true
   },
   "outputs": [],
   "source": [
    "# filter the columns from df_csv that: do not contain \"CLOSE\" AND do not contain \"CREATION\"\n",
    "cols = [col for col in df_csv.columns if (\"CLOSE\" not in col) and (\"CREATION\" not in col)]\n",
    "\n",
    "df_csv[cols].head() # one can choose a DataFrame with the following columns"
   ]
  },
  {
   "cell_type": "markdown",
   "id": "e65ea794",
   "metadata": {},
   "source": [
    "If one wants to select only the columns containing these words, change accordingly **not in** to **in**, and **and** to **or**."
   ]
  },
  {
   "cell_type": "markdown",
   "id": "7ddee8cc",
   "metadata": {},
   "source": [
    "## Deleting a DataFrame column"
   ]
  },
  {
   "cell_type": "markdown",
   "id": "cd7f132b",
   "metadata": {},
   "source": [
    "If only a few columns need to be deleted, one can use the **drop()** command. <br>\n",
    "For example, realizing that in the Animal Control dataset, one cannot use the \"CASE ID\" column in any way."
   ]
  },
  {
   "cell_type": "code",
   "execution_count": null,
   "id": "999a9b8c",
   "metadata": {},
   "outputs": [],
   "source": [
    "df_csv = df_csv.drop(\"CASE ID\", axis = 1) # axis = 1 means working with columns instead of rows.\n",
    "df_csv.head()"
   ]
  },
  {
   "cell_type": "markdown",
   "id": "f9180140",
   "metadata": {},
   "source": [
    "## Choice of axis: row or column"
   ]
  },
  {
   "attachments": {
    "image.png": {
     "image/png": "[encoded data removed]"
    }
   },
   "cell_type": "markdown",
   "id": "35cb0b97",
   "metadata": {},
   "source": [
    "It is important to note that pandas usually have a choice of whether to apply the operation to a row or a column. By default it works with rows, but one might need it to work with columns as well.\n",
    "\n",
    "This is handled by the method argument, which is called with the keyword **axis**\n",
    "* the default value **0** corresponds to operations on **rows**\n",
    "* if one changes the value to **1**, then the operation applies to **columns**\n",
    "\n",
    "![image.png](attachment:image.png)\n",
    "<center>https://stackoverflow.com/questions/39283339/what-is-the-meaning-of-axis-attribute-in-a-pandas-dataframe</center>"
   ]
  },
  {
   "cell_type": "markdown",
   "id": "d5fdc538",
   "metadata": {},
   "source": [
    "Example above uses this with the **drop()** method because otherwise the row with the index \"CASE ID\" would be searched for. Let's try to drop the \"ZIP CODE\" column without specifying the axes."
   ]
  },
  {
   "cell_type": "code",
   "execution_count": null,
   "id": "0a10c433",
   "metadata": {
    "scrolled": true,
    "tags": []
   },
   "outputs": [],
   "source": [
    "df_csv = df_csv.drop(\"ZIP CODE\")\n",
    "df_csv.head()"
   ]
  },
  {
   "cell_type": "markdown",
   "id": "fa431eb0",
   "metadata": {},
   "source": [
    "Pandas DataFrame has a method **sum()** that counts the elements. Usually it applies to rows."
   ]
  },
  {
   "cell_type": "code",
   "execution_count": null,
   "id": "d848cece",
   "metadata": {},
   "outputs": [],
   "source": [
    "print(\"Sum of the first ten rows:\\n\", df_web.head(10).sum(), \"\\n\")\n",
    "\n",
    "df_web.head(10)"
   ]
  },
  {
   "cell_type": "markdown",
   "id": "ced0584e",
   "metadata": {},
   "source": [
    "However, with the same sum() method one can also introduce a \"mid-height\" column by swapping the axes. "
   ]
  },
  {
   "cell_type": "code",
   "execution_count": null,
   "id": "3ddc57d4",
   "metadata": {},
   "outputs": [],
   "source": [
    "df_web[\"mid-height\"] = df_web[[\"Father\", \"Mother\"]].sum(axis = 1) / 2\n",
    "df_web.head()"
   ]
  },
  {
   "cell_type": "markdown",
   "id": "6461ace8",
   "metadata": {},
   "source": [
    "This approach is not so relevant when you need to add two columns, but when the number of columns is larger, sum() is the right choice to avoid spelling mistakes and write transparent code."
   ]
  },
  {
   "cell_type": "markdown",
   "id": "afcea7b8",
   "metadata": {},
   "source": [
    "## Row filtering"
   ]
  },
  {
   "cell_type": "markdown",
   "id": "e3e23e69",
   "metadata": {},
   "source": [
    "The selection of specific series, either for further analysis of a specific sample or for a purely visual assessment, is a very frequent need.\n",
    "\n",
    "The simplest way to select specific rows is to slice them in a similar way to what one can do with the lists. If the indexes are ordered, one can mimic the effect of the head() method with a list cut, selecting the first five records."
   ]
  },
  {
   "cell_type": "code",
   "execution_count": null,
   "id": "d16d6ba1",
   "metadata": {},
   "outputs": [],
   "source": [
    "df_web[:5]"
   ]
  },
  {
   "cell_type": "markdown",
   "id": "36c7e411",
   "metadata": {},
   "source": [
    "A more interesting usage of this is to filter rows by specific column values. For example, to filter out only females."
   ]
  },
  {
   "cell_type": "code",
   "execution_count": null,
   "id": "52888225",
   "metadata": {
    "scrolled": true
   },
   "outputs": [],
   "source": [
    "df_web[ df_web[\"Gender\"] == \"F\" ]"
   ]
  },
  {
   "cell_type": "markdown",
   "id": "e694f79c",
   "metadata": {},
   "source": [
    "This is a usage similar to Power BI or Excel filtering. But one can also ask logical queries that are not available in classic Microsoft filtering. \n",
    "\n",
    "For example, one can want to select families where the mother was taller than the father. "
   ]
  },
  {
   "cell_type": "code",
   "execution_count": null,
   "id": "d534ee70",
   "metadata": {},
   "outputs": [],
   "source": [
    "df_web[ df_web[\"Mother\"] > df_web[\"Father\"] ]"
   ]
  },
  {
   "cell_type": "markdown",
   "id": "23c14c8b",
   "metadata": {},
   "source": [
    "Using this construction one can build increasingly complex filtering conditions, for example using mathematical functions in a logical query. \n",
    "\n",
    "For example, one can want to select only those children whose length is greater than the mean. For this one will use the **mean()** method, which calculates the arithmetic mean."
   ]
  },
  {
   "cell_type": "code",
   "execution_count": null,
   "id": "86b7057c",
   "metadata": {},
   "outputs": [],
   "source": [
    "print(\"The average length of children is:\", df_web[\"Height\"].mean())\n",
    "\n",
    "df_web[ df_web[\"Height\"] > df_web[\"Height\"].mean() ]"
   ]
  },
  {
   "cell_type": "markdown",
   "id": "32d45e69",
   "metadata": {},
   "source": [
    "## \\*\\*\\***TRY IT YOURSELF**\\*\\*\\*: Iris data set 2"
   ]
  },
  {
   "cell_type": "code",
   "execution_count": null,
   "id": "0eb1b605",
   "metadata": {},
   "outputs": [],
   "source": [
    "# path = r\"C:\\py\\dati\\iris.csv\"\n",
    "# df_iris = pd.read_csv(path)\n",
    "df_iris.head()"
   ]
  },
  {
   "cell_type": "markdown",
   "id": "57ac9559",
   "metadata": {},
   "source": [
    "1. **Create two new columns in the dataset**:\n",
    "    * SepalTotal\n",
    "    * PetalTotal\n",
    "    \n",
    "    Each of these columns is the product (multiplication) of the two columns (Sepal or Petal).\n",
    "    "
   ]
  },
  {
   "cell_type": "code",
   "execution_count": null,
   "id": "926e7fce",
   "metadata": {},
   "outputs": [],
   "source": [
    "\n",
    "\n",
    "\n"
   ]
  },
  {
   "cell_type": "markdown",
   "id": "edfe3e13",
   "metadata": {},
   "source": [
    "2. **What are the unique values of iris species?** "
   ]
  },
  {
   "cell_type": "code",
   "execution_count": null,
   "id": "5ea6f37c",
   "metadata": {},
   "outputs": [],
   "source": [
    "\n",
    "\n",
    "\n"
   ]
  },
  {
   "cell_type": "markdown",
   "id": "ea9de98b",
   "metadata": {},
   "source": [
    "3. **Select only *virginica* species lines in the new set df_virginica**"
   ]
  },
  {
   "cell_type": "code",
   "execution_count": null,
   "id": "97a2bb27",
   "metadata": {},
   "outputs": [],
   "source": [
    "\n",
    "\n",
    "\n",
    "\n"
   ]
  },
  {
   "cell_type": "markdown",
   "id": "697afcaa",
   "metadata": {},
   "source": [
    "4. **Let's leave only 3 columns:**\n",
    "    * Species\n",
    "    * SepalTotal \n",
    "    * PetalTotal "
   ]
  },
  {
   "cell_type": "code",
   "execution_count": null,
   "id": "18748825",
   "metadata": {},
   "outputs": [],
   "source": [
    "\n",
    "\n",
    "\n"
   ]
  },
  {
   "cell_type": "markdown",
   "id": "e814aa74",
   "metadata": {},
   "source": [
    "5. **Draw two histograms using hist() :**\n",
    "    * for SepalTotal values\n",
    "    * for PetalTotal values"
   ]
  },
  {
   "cell_type": "code",
   "execution_count": null,
   "id": "1e37eaef",
   "metadata": {},
   "outputs": [],
   "source": [
    "\n",
    "\n",
    "\n"
   ]
  },
  {
   "cell_type": "code",
   "execution_count": null,
   "id": "aca02aee",
   "metadata": {},
   "outputs": [],
   "source": [
    "\n",
    "\n",
    "\n"
   ]
  },
  {
   "cell_type": "markdown",
   "id": "45832af1",
   "metadata": {},
   "source": [
    "## iloc and loc DataFrame indexation."
   ]
  },
  {
   "cell_type": "markdown",
   "id": "e659e6a6",
   "metadata": {},
   "source": [
    "Above there was example using the possibility of slicing rows using the Python list syntax [ start : end ].  <br>\n",
    "The **loc** and **iloc** operations offer more flexibility in the choices, and also allow one to select not only rows, but also columns\n",
    "\n",
    "* **iloc** works in a similar way to slicing using record positions (indexes).\n",
    "* **loc** uses not record positions (indexes) but their names."
   ]
  },
  {
   "cell_type": "markdown",
   "id": "50b8b69f",
   "metadata": {},
   "source": [
    "One can create a small DataFrame to clearly show the indexing options. "
   ]
  },
  {
   "cell_type": "code",
   "execution_count": null,
   "id": "245db70d",
   "metadata": {},
   "outputs": [],
   "source": [
    "df = pd.DataFrame({\"P\": [10, 20, 30], \"Q\": [40, 50, 60], \"R\": [100, 120, 130]},\n",
    "index=['p', 'q', 'r'])\n",
    "\n",
    "df.head()"
   ]
  },
  {
   "cell_type": "markdown",
   "id": "30c044be",
   "metadata": {},
   "source": [
    "### iloc"
   ]
  },
  {
   "cell_type": "markdown",
   "id": "e3ab4abd",
   "metadata": {},
   "source": [
    "With **iloc** it is possible to apply the list slicing syntax not only to rows but also to columns."
   ]
  },
  {
   "cell_type": "code",
   "execution_count": null,
   "id": "768e98d0",
   "metadata": {},
   "outputs": [],
   "source": [
    "df.iloc[:2] # row selection only"
   ]
  },
  {
   "cell_type": "code",
   "execution_count": null,
   "id": "75165d49",
   "metadata": {},
   "outputs": [],
   "source": [
    "df.iloc[:2, :2] # row and column selection"
   ]
  },
  {
   "cell_type": "code",
   "execution_count": null,
   "id": "7ee3f2f0",
   "metadata": {},
   "outputs": [],
   "source": [
    "df.iloc[:, :2] # column selection only"
   ]
  },
  {
   "cell_type": "markdown",
   "id": "dc2fa5fa",
   "metadata": {},
   "source": [
    "Alternatively, specific indices can be selected as well."
   ]
  },
  {
   "cell_type": "code",
   "execution_count": null,
   "id": "054233f1",
   "metadata": {},
   "outputs": [],
   "source": [
    "df.iloc[[1]] # 2nd row"
   ]
  },
  {
   "cell_type": "code",
   "execution_count": null,
   "id": "230b6ef0",
   "metadata": {
    "scrolled": true
   },
   "outputs": [],
   "source": [
    "df.iloc[[0,2]] # 1st and 3rd row"
   ]
  },
  {
   "cell_type": "code",
   "execution_count": null,
   "id": "729e4145",
   "metadata": {},
   "outputs": [],
   "source": [
    "df.iloc[[0],[0]] # 1st row, 1st column"
   ]
  },
  {
   "cell_type": "code",
   "execution_count": null,
   "id": "58bae0c7",
   "metadata": {},
   "outputs": [],
   "source": [
    "df.iloc[[0],[0,2]] # 1st row, 1st and 3rd columns"
   ]
  },
  {
   "cell_type": "code",
   "execution_count": null,
   "id": "6848621d",
   "metadata": {},
   "outputs": [],
   "source": [
    "df.iloc[:,[0,2]] # 1st and 3rd columns"
   ]
  },
  {
   "cell_type": "markdown",
   "id": "9b93cca6",
   "metadata": {},
   "source": [
    "### loc"
   ]
  },
  {
   "cell_type": "markdown",
   "id": "77fb6f33",
   "metadata": {},
   "source": [
    "When one operates on **loc**, one can use index names instead of index-positions, they can be numeric or date type, but for illustrative purposes one can use this DataFrame with text indexes. This is more like dictionary indexing."
   ]
  },
  {
   "cell_type": "code",
   "execution_count": null,
   "id": "329cd34d",
   "metadata": {
    "scrolled": true
   },
   "outputs": [],
   "source": [
    "df.loc[[\"p\"]] # q row"
   ]
  },
  {
   "cell_type": "code",
   "execution_count": null,
   "id": "a8e0ac04",
   "metadata": {},
   "outputs": [],
   "source": [
    "df.loc[[\"p\", \"r\"]] # p and r rows"
   ]
  },
  {
   "cell_type": "code",
   "execution_count": null,
   "id": "dbd8c2e1",
   "metadata": {},
   "outputs": [],
   "source": [
    "df.loc[[\"p\", \"r\"], [\"Q\"]] # p and r rows, Q columns"
   ]
  },
  {
   "cell_type": "code",
   "execution_count": null,
   "id": "94a99f95",
   "metadata": {},
   "outputs": [],
   "source": [
    "df.loc[:, \"P\":\"Q\"] # all rows, P:Q columns"
   ]
  },
  {
   "cell_type": "code",
   "execution_count": null,
   "id": "7d412029",
   "metadata": {},
   "outputs": [],
   "source": [
    "df[\"A\"] = [1000, 1100, 1200] # adding A columns\n",
    "df.head()"
   ]
  },
  {
   "cell_type": "code",
   "execution_count": null,
   "id": "2ae0f3d9",
   "metadata": {},
   "outputs": [],
   "source": [
    "#selection is by column order rather than alphabetical order\n",
    "\n",
    "df.loc[:, \"P\":\"A\"] # all rows, P:A columns"
   ]
  },
  {
   "cell_type": "markdown",
   "id": "d139c764",
   "metadata": {},
   "source": [
    "Logical queries can also be used with **loc**. Similar to what was done with the specific DataFrame region selection."
   ]
  },
  {
   "cell_type": "code",
   "execution_count": null,
   "id": "b37c2d64",
   "metadata": {},
   "outputs": [],
   "source": [
    "df.loc[df[\"Q\"] >= 50, [\"R\", \"A\"]]"
   ]
  },
  {
   "cell_type": "markdown",
   "id": "0a2ad938",
   "metadata": {},
   "source": [
    "### Assign values with loc and iloc"
   ]
  },
  {
   "cell_type": "code",
   "execution_count": null,
   "id": "172182f0",
   "metadata": {},
   "outputs": [],
   "source": [
    "df.iloc[[0],[0]] = \"John\" # when filtering out an element, it can be assigned a value\n",
    "df.head()"
   ]
  },
  {
   "cell_type": "code",
   "execution_count": null,
   "id": "9d7fcfd0",
   "metadata": {},
   "outputs": [],
   "source": [
    "df.iloc[:,[0]] = \"John\" # the same can be done with more elements\n",
    "df.head()"
   ]
  },
  {
   "cell_type": "code",
   "execution_count": null,
   "id": "5365e81f",
   "metadata": {},
   "outputs": [],
   "source": [
    "df.loc[ df[\"A\"] >= 1100, [\"A\"]] = \"Jane\" # with loc can modify elements that satisfy logical conditions\n",
    "df.head()"
   ]
  },
  {
   "cell_type": "markdown",
   "id": "5ddafdbc",
   "metadata": {},
   "source": [
    "## \\*\\*\\***TRY IT YOURSELF**\\*\\*\\*: Iris data set 3"
   ]
  },
  {
   "cell_type": "code",
   "execution_count": null,
   "id": "029be228",
   "metadata": {},
   "outputs": [],
   "source": [
    "df_iris.head()"
   ]
  },
  {
   "cell_type": "markdown",
   "id": "fcb0fff7",
   "metadata": {},
   "source": [
    "1. **Create a SepalType column, in which at first initialising with the null values**"
   ]
  },
  {
   "cell_type": "code",
   "execution_count": null,
   "id": "b70375e2",
   "metadata": {},
   "outputs": [],
   "source": [
    "\n",
    "\n",
    "\n"
   ]
  },
  {
   "cell_type": "markdown",
   "id": "0ea7c7cf",
   "metadata": {},
   "source": [
    "2. **Assign values to the column:**\n",
    "    * **big sepal**, if SepalTotal is higher than the average\n",
    "    * **small sepal**, if SepalTotal is less than or equal to the average"
   ]
  },
  {
   "cell_type": "code",
   "execution_count": null,
   "id": "7942fe3e",
   "metadata": {},
   "outputs": [],
   "source": [
    "\n",
    "\n",
    "\n"
   ]
  },
  {
   "cell_type": "markdown",
   "id": "debaeae5",
   "metadata": {},
   "source": [
    "3. **Count how many \"big sepal\" and \"small sepal\"**"
   ]
  },
  {
   "cell_type": "code",
   "execution_count": null,
   "id": "7ff75759",
   "metadata": {},
   "outputs": [],
   "source": [
    "\n",
    "\n",
    "\n"
   ]
  },
  {
   "cell_type": "markdown",
   "id": "e411e2b1",
   "metadata": {},
   "source": [
    "## DataFrame sorting"
   ]
  },
  {
   "cell_type": "markdown",
   "id": "b67bbd71",
   "metadata": {},
   "source": [
    "Sorting is one of the standard procedures needed both for visual evaluation of the dataset and for filtering out larger or smaller values in an individual DataFrame.\n",
    "\n",
    "The **sort_values()** method is intended for this purpose.  It takes as argument the column by which the sorting is performed."
   ]
  },
  {
   "cell_type": "code",
   "execution_count": null,
   "id": "32a389ee",
   "metadata": {},
   "outputs": [],
   "source": [
    "df_web.head()"
   ]
  },
  {
   "cell_type": "markdown",
   "id": "7451b94c",
   "metadata": {},
   "source": [
    "If one wants to sort by offspring hights, then select the \"Height\" column."
   ]
  },
  {
   "cell_type": "code",
   "execution_count": null,
   "id": "df0f9073",
   "metadata": {},
   "outputs": [],
   "source": [
    "df_web.sort_values(by = \"Height\").head()"
   ]
  },
  {
   "cell_type": "markdown",
   "id": "98770866",
   "metadata": {},
   "source": [
    "By default, they are sorted in ascending order. If one wants to change this, one can use the keyword *ascending*, which defaults to *True*."
   ]
  },
  {
   "cell_type": "code",
   "execution_count": null,
   "id": "046aed0e",
   "metadata": {},
   "outputs": [],
   "source": [
    "df_web.sort_values(by = \"Height\", ascending = False).head()"
   ]
  },
  {
   "cell_type": "markdown",
   "id": "8822730a",
   "metadata": {},
   "source": [
    "## Substitution of null values"
   ]
  },
  {
   "cell_type": "markdown",
   "id": "49aa7a71",
   "metadata": {},
   "source": [
    "Empty fields are denoted by **NaN** in pandas syntax. Both **isna()** and **isnull()** methods can be used to find them. <br>\n",
    "Let's look at the Animal Control dataset, where there were many of these."
   ]
  },
  {
   "cell_type": "code",
   "execution_count": null,
   "id": "f92b1e5b",
   "metadata": {
    "scrolled": true
   },
   "outputs": [],
   "source": [
    "address = r\"C:\\py\\dati\\animal_control.csv\"\n",
    "\n",
    "df_csv = pd.read_csv(address)\n",
    "df_csv.describe()"
   ]
  },
  {
   "cell_type": "code",
   "execution_count": null,
   "id": "9e071598",
   "metadata": {},
   "outputs": [],
   "source": [
    "df_csv.head().isnull()"
   ]
  },
  {
   "cell_type": "markdown",
   "id": "67e6d98c",
   "metadata": {},
   "source": [
    "One can see that **isnull()** assigns False values to cells with values. \n",
    "\n",
    "Let's count the empty cells in each column."
   ]
  },
  {
   "cell_type": "code",
   "execution_count": null,
   "id": "24675c3b",
   "metadata": {},
   "outputs": [],
   "source": [
    "df_csv.isnull().sum()"
   ]
  },
  {
   "cell_type": "markdown",
   "id": "3bb910b5",
   "metadata": {},
   "source": [
    "It can be seen that the most missing data are in the names of districts and neighbourhoods. At this point one can use **dropna()** to avoid rows. But if the context of the data is known, it is probably a better choice to replace these two columns by \"not known\". And then discard the records that are still missing something.\n",
    "\n",
    "One can do this with the **fillna()** function."
   ]
  },
  {
   "cell_type": "code",
   "execution_count": null,
   "id": "0d798d9f",
   "metadata": {},
   "outputs": [],
   "source": [
    "df_csv[[\"NEIGHBORHOOD\", \"COUNCIL DISTRICT\"]] = df_csv[[\"NEIGHBORHOOD\", \"COUNCIL DISTRICT\"]].fillna(\"not known\")\n",
    "df_csv.isnull().sum()"
   ]
  },
  {
   "cell_type": "code",
   "execution_count": null,
   "id": "8dc944d6",
   "metadata": {},
   "outputs": [],
   "source": [
    "df_csv = df_csv.dropna()\n",
    "df_csv.isnull().sum()"
   ]
  },
  {
   "cell_type": "markdown",
   "id": "d800db29",
   "metadata": {},
   "source": [
    "Working as a data analyst requires one to use his or her knowledge of data to work with it and how to deal with missing data in the right way. \n",
    "\n",
    "For numerical data, this can be an approximation from other data, if the data allow it. \n",
    "\n",
    "For categorical data, filling in can be done by knowing the relationships. <br>\n",
    "For example, if the city is Valmiera, then with a very high probability the country is Latvia."
   ]
  },
  {
   "cell_type": "markdown",
   "id": "b2e2f367",
   "metadata": {},
   "source": [
    "## DataFrame grouping and pivoting"
   ]
  },
  {
   "cell_type": "markdown",
   "id": "d4e7f23a",
   "metadata": {},
   "source": [
    "For cases where one needs an encompassing view of the data, **groupby()** is useful. It must immediately follow the method corresponding to the selected aggregate function, for example **mean()**. The argument to the function must specify the column by which the grouping will take place.\n",
    "\n",
    "In a Galton dataset, one can group the data by family so that the families with the largest number of children do not have a higher mathematical weight in future calculations. "
   ]
  },
  {
   "cell_type": "code",
   "execution_count": null,
   "id": "3c1b62df",
   "metadata": {},
   "outputs": [],
   "source": [
    "df_web.head()"
   ]
  },
  {
   "cell_type": "code",
   "execution_count": null,
   "id": "fecf49e9",
   "metadata": {
    "scrolled": true
   },
   "outputs": [],
   "source": [
    "# df_web.index[df_web[\"Family\"]==\"136A\"].tolist()\n",
    "df_web3 = df_web.drop(df_web.index[df_web[\"Family\"]==\"136A\"].tolist())\n",
    "\n",
    "df_web3[\"Family\"] = pd.to_numeric(df_web3[\"Family\"])\n",
    "\n",
    "df_group = df_web3.groupby(\"Family\").mean(numeric_only=True)\n",
    "df_group.head(10)"
   ]
  },
  {
   "cell_type": "markdown",
   "id": "2ef8bf5f",
   "metadata": {},
   "source": [
    "We can see that the average Gender could not be calculated, so the column was dropped from the DataFrame. To avoid losing information we split it into two sets: male and female."
   ]
  },
  {
   "cell_type": "code",
   "execution_count": null,
   "id": "5ea5e9b5",
   "metadata": {},
   "outputs": [],
   "source": [
    "df_groupM = df_web3[df_web3[\"Gender\"] == \"M\"].groupby(\"Family\").mean(numeric_only=True) # males \n",
    "df_groupF = df_web3[df_web3[\"Gender\"] == \"F\"].groupby(\"Family\").mean(numeric_only=True) # females\n",
    "\n",
    "df_groupM.head(15)"
   ]
  },
  {
   "cell_type": "code",
   "execution_count": null,
   "id": "30873a69",
   "metadata": {},
   "outputs": [],
   "source": [
    "df_groupF.head(15)"
   ]
  },
  {
   "cell_type": "markdown",
   "id": "a9d6deb0",
   "metadata": {},
   "source": [
    "One can see that some families (10) had only children of one Gender. In those families where both Genders were present, the height in the male group is usually greater than in the female group."
   ]
  },
  {
   "cell_type": "markdown",
   "id": "0c07572a",
   "metadata": {},
   "source": [
    "If one wants to see this data at the same time, one can create a pivot table with the pandas function **pivot_table**.\n",
    "\n",
    "Its most important arguments are:\n",
    "* data - DataFrame from which the pivot table is made of\n",
    "* values - numeric values that will be subjected to the aggregate function\n",
    "* index - table rows\n",
    "* columns - table columns\n",
    "* aggfunc - aggregate function, default - \"mean\""
   ]
  },
  {
   "cell_type": "markdown",
   "id": "6c64f86c",
   "metadata": {},
   "source": [
    "One can create a table where one can choose the Genders as columns, the Family number as rows and the average height of the child and the average height of the parents as values."
   ]
  },
  {
   "cell_type": "code",
   "execution_count": null,
   "id": "dd56ee8a",
   "metadata": {
    "scrolled": true
   },
   "outputs": [],
   "source": [
    "df_pivot = pd.pivot_table(data = df_web, values = [\"Height\", \"mid-height\"], columns = \"Gender\", index = \"Family\", aggfunc=\"mean\")\n",
    "print(df_pivot)"
   ]
  },
  {
   "cell_type": "markdown",
   "id": "de2a74e2",
   "metadata": {},
   "source": [
    "## \\*\\*\\***TRY IT YOURSELF**\\*\\*\\*: Iris data set 4"
   ]
  },
  {
   "cell_type": "markdown",
   "id": "179d3c5b",
   "metadata": {},
   "source": [
    "One can use the result of the previous Try-It-Yourself work as a starting point. The column \"SepalType\" must be present."
   ]
  },
  {
   "cell_type": "code",
   "execution_count": null,
   "id": "0f2f5082",
   "metadata": {},
   "outputs": [],
   "source": [
    "df_iris.head()"
   ]
  },
  {
   "cell_type": "markdown",
   "id": "1200ee1d",
   "metadata": {},
   "source": [
    "We have partitioned the set according to a very conditional feature: whether the approximation of the subleaf area is greater than the mean or not. Let's investigate whether this also shows a difference in other features.\n",
    "\n",
    "1. **Group *df_iris* in new DataFrame *df_iris_group1* by SepalType column, aggregate function - arithmetic mean**"
   ]
  },
  {
   "cell_type": "code",
   "execution_count": null,
   "id": "23e6a5ad",
   "metadata": {},
   "outputs": [],
   "source": [
    "\n",
    "\n",
    "\n"
   ]
  },
  {
   "cell_type": "markdown",
   "id": "639b2c96",
   "metadata": {},
   "source": [
    "One can see that this trend is reversing for all figures.  What about the original distribution by species?\n",
    "\n",
    "2. **Group *df_iris* in the new DataFrame *df_iris_group2* by Species column, aggregate function - arithmetic mean**"
   ]
  },
  {
   "cell_type": "code",
   "execution_count": null,
   "id": "8621269e",
   "metadata": {},
   "outputs": [],
   "source": [
    "\n",
    "\n",
    "\n"
   ]
  },
  {
   "cell_type": "markdown",
   "id": "359ac4f2",
   "metadata": {},
   "source": [
    "One can see that species is a good predictor for some indicators, but not for all. We are interested in how species are divided into our invented categories *big* and *small*.\n",
    "\n",
    "3. **Create a pivot table *iris_pivot* that shows how many records each species has in the *big* or *small* categories.**\n",
    "    * rows - \"SepalType\"\n",
    "    * columns - \"Species\""
   ]
  },
  {
   "cell_type": "code",
   "execution_count": null,
   "id": "69b98045",
   "metadata": {},
   "outputs": [],
   "source": [
    "\n",
    "\n",
    "\n"
   ]
  },
  {
   "cell_type": "markdown",
   "id": "56489a0f",
   "metadata": {},
   "source": [
    "One can see that each species is represented in each category, but in different proportions.\n",
    "\n",
    "4. **Create a *df_iris* column *TotalSum* that adds the values from the four columns with the original petal measurements**\n",
    "\n",
    "**Hint:** use the list generator and the sum() method."
   ]
  },
  {
   "cell_type": "code",
   "execution_count": null,
   "id": "544ec03c",
   "metadata": {},
   "outputs": [],
   "source": [
    "\n",
    "\n",
    "\n"
   ]
  },
  {
   "cell_type": "markdown",
   "id": "070b6806",
   "metadata": {},
   "source": [
    "5. **Create a pivot table *iris_pivot2* with a similar structure as in step 3, but with the column from step 4 as the value in the table. Aggregate function - arithmetic mean.**"
   ]
  },
  {
   "cell_type": "code",
   "execution_count": null,
   "id": "db5e9f3a",
   "metadata": {},
   "outputs": [],
   "source": [
    "\n",
    "\n",
    "\n"
   ]
  },
  {
   "cell_type": "markdown",
   "id": "f4c99084",
   "metadata": {},
   "source": [
    "One can see that the trend that is observed in the overall numbers is also observed on a species-by-species basis."
   ]
  },
  {
   "cell_type": "markdown",
   "id": "97f7512c",
   "metadata": {},
   "source": [
    "# Summary"
   ]
  },
  {
   "cell_type": "markdown",
   "id": "75eb35f0",
   "metadata": {},
   "source": [
    "In this lecture, we learned several techniques for working with tables. However, one can see how limited the picture is without visualisations. Now one can choose exactly the data he or she wants to display. In the next lecture we will learn display techniques and packages that give the data a visible meaning."
   ]
  }
 ],
 "metadata": {
  "kernelspec": {
   "display_name": "Python 3 (ipykernel)",
   "language": "python",
   "name": "python3"
  },
  "language_info": {
   "codemirror_mode": {
    "name": "ipython",
    "version": 3
   },
   "file_extension": ".py",
   "mimetype": "text/x-python",
   "name": "python",
   "nbconvert_exporter": "python",
   "pygments_lexer": "ipython3",
   "version": "3.12.3"
  },
  "toc": {
   "base_numbering": 1,
   "nav_menu": {},
   "number_sections": true,
   "sideBar": true,
   "skip_h1_title": false,
   "title_cell": "Table of Contents",
   "title_sidebar": "Contents",
   "toc_cell": false,
   "toc_position": {
    "height": "calc(100% - 180px)",
    "left": "10px",
    "top": "150px",
    "width": "349.091px"
   },
   "toc_section_display": true,
   "toc_window_display": true
  }
 },
 "nbformat": 4,
 "nbformat_minor": 5
}
